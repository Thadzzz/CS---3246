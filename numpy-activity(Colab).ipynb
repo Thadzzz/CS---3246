{
  "nbformat": 4,
  "nbformat_minor": 0,
  "metadata": {
    "colab": {
      "provenance": []
    },
    "kernelspec": {
      "name": "python3",
      "display_name": "Python 3"
    },
    "language_info": {
      "name": "python"
    }
  },
  "cells": [
    {
      "cell_type": "markdown",
      "source": [
        "**Part 1**"
      ],
      "metadata": {
        "id": "ad9G41y4DvBs"
      }
    },
    {
      "cell_type": "code",
      "execution_count": 26,
      "metadata": {
        "id": "Mwwei09zDqzP"
      },
      "outputs": [],
      "source": [
        "\n",
        "# By: Baltazar,Cuison,Domingo\n",
        "# Class Code: 4-326 (6:00 - 8:30P)\n",
        "\n",
        "# Note: made in Google colab\n",
        "\n",
        "#1\n",
        "import numpy as np"
      ]
    },
    {
      "cell_type": "code",
      "source": [
        "#2\n",
        "print(np.__version__)"
      ],
      "metadata": {
        "id": "g78O2qgKDzWX",
        "colab": {
          "base_uri": "https://localhost:8080/"
        },
        "outputId": "37a41c45-790b-4839-f36e-41421dc21967"
      },
      "execution_count": 27,
      "outputs": [
        {
          "output_type": "stream",
          "name": "stdout",
          "text": [
            "1.26.4\n"
          ]
        }
      ]
    },
    {
      "cell_type": "code",
      "source": [
        "#3\n",
        "print(np.zeros([5]))"
      ],
      "metadata": {
        "id": "xyI9HJlfDzT1",
        "colab": {
          "base_uri": "https://localhost:8080/"
        },
        "outputId": "e8483ff3-1b1f-465b-9cb4-3704fd55918e"
      },
      "execution_count": 28,
      "outputs": [
        {
          "output_type": "stream",
          "name": "stdout",
          "text": [
            "[0. 0. 0. 0. 0.]\n"
          ]
        }
      ]
    },
    {
      "cell_type": "code",
      "source": [
        "#4\n",
        "a = np.array([0,0,0,0,0,0,0,1,0,0,0,0,0,0,0])\n",
        "print(a)"
      ],
      "metadata": {
        "id": "I8MdW1q1DzRQ",
        "colab": {
          "base_uri": "https://localhost:8080/"
        },
        "outputId": "758f7dec-0e41-4d6b-ff71-0caa030c36fc"
      },
      "execution_count": 29,
      "outputs": [
        {
          "output_type": "stream",
          "name": "stdout",
          "text": [
            "[0 0 0 0 0 0 0 1 0 0 0 0 0 0 0]\n"
          ]
        }
      ]
    },
    {
      "cell_type": "code",
      "source": [
        "#5\n",
        "np.random.randint(0,12, size = (4,4))"
      ],
      "metadata": {
        "id": "FSWfrD6_DzOt",
        "colab": {
          "base_uri": "https://localhost:8080/"
        },
        "outputId": "fcb98fac-0cd9-4620-aa2c-6892ed56dd7e"
      },
      "execution_count": 36,
      "outputs": [
        {
          "output_type": "execute_result",
          "data": {
            "text/plain": [
              "array([[ 2,  5,  9,  2],\n",
              "       [ 4,  6,  8,  8],\n",
              "       [ 6,  0,  3,  7],\n",
              "       [ 7,  8, 10,  5]])"
            ]
          },
          "metadata": {},
          "execution_count": 36
        }
      ]
    },
    {
      "cell_type": "code",
      "source": [
        "#6\n",
        "c = np.array([1,2,4,0,4,0])\n",
        "c[[0,1,2,4]]"
      ],
      "metadata": {
        "id": "XVrHJ8cNDzL4",
        "colab": {
          "base_uri": "https://localhost:8080/"
        },
        "outputId": "b1015b9c-6baf-49d5-ddb7-e562c90fb291"
      },
      "execution_count": 37,
      "outputs": [
        {
          "output_type": "execute_result",
          "data": {
            "text/plain": [
              "array([1, 2, 4, 4])"
            ]
          },
          "metadata": {},
          "execution_count": 37
        }
      ]
    },
    {
      "cell_type": "code",
      "source": [
        "#7\n",
        "np.random.randint(0,20, size = (4,4,4))"
      ],
      "metadata": {
        "id": "_ZltKdceDzJN",
        "colab": {
          "base_uri": "https://localhost:8080/"
        },
        "outputId": "855bf698-0316-4151-85d2-2c32d47e7b0c"
      },
      "execution_count": 38,
      "outputs": [
        {
          "output_type": "execute_result",
          "data": {
            "text/plain": [
              "array([[[ 7,  5, 12,  9],\n",
              "        [ 0, 19,  3, 18],\n",
              "        [19, 13,  8, 18],\n",
              "        [18, 14, 18,  3]],\n",
              "\n",
              "       [[11, 11,  9,  7],\n",
              "        [10, 10, 11, 19],\n",
              "        [14,  5, 15,  4],\n",
              "        [12,  0, 14,  5]],\n",
              "\n",
              "       [[18,  7, 19, 17],\n",
              "        [11,  7, 14, 17],\n",
              "        [ 5, 10, 18,  7],\n",
              "        [ 2, 16, 15,  6]],\n",
              "\n",
              "       [[16, 18,  9,  6],\n",
              "        [ 7,  7,  8, 13],\n",
              "        [ 8, 10,  0,  4],\n",
              "        [18, 13, 14, 14]]])"
            ]
          },
          "metadata": {},
          "execution_count": 38
        }
      ]
    },
    {
      "cell_type": "code",
      "source": [
        "#8\n",
        "stats = np.random.randint(0,20, size = (15,15))\n",
        "\n",
        "print(np.min(stats))\n",
        "print(np.max(stats))"
      ],
      "metadata": {
        "id": "1u3AguQRDzG4"
      },
      "execution_count": null,
      "outputs": []
    },
    {
      "cell_type": "code",
      "source": [
        "#9\n",
        "stats = np.random.randint(0,10, size = (25))\n",
        "sum = np.sum(stats)\n",
        "print(stats)\n",
        "print(np.sum(stats))\n",
        "print(sum/25)"
      ],
      "metadata": {
        "id": "dhxLR01RDzEN"
      },
      "execution_count": null,
      "outputs": []
    },
    {
      "cell_type": "code",
      "source": [
        "#10\n",
        "a = np.array([[2,4,9]])\n",
        "b = np.array([[1,14,6]])\n",
        "print(f\"Array 1 = {a}\")\n",
        "print(f\"Array 2 = {b}\")"
      ],
      "metadata": {
        "id": "sTuu5oYWFv4w"
      },
      "execution_count": null,
      "outputs": []
    },
    {
      "cell_type": "code",
      "source": [
        "#10.1\n",
        "[[ 3 18 15 ]]"
      ],
      "metadata": {
        "id": "IzjQto_QDzBw"
      },
      "execution_count": null,
      "outputs": []
    },
    {
      "cell_type": "code",
      "source": [
        "#10.2\n",
        "[[ 1 -10  3 ]]"
      ],
      "metadata": {
        "id": "bbNt2jsXDy_P"
      },
      "execution_count": null,
      "outputs": []
    },
    {
      "cell_type": "code",
      "source": [
        "#10.3\n",
        "[[ 2 56 54 ]]"
      ],
      "metadata": {
        "id": "qQBGIs1CDy8d"
      },
      "execution_count": null,
      "outputs": []
    },
    {
      "cell_type": "code",
      "source": [
        "#10.4\n",
        "[[ 2.0 0.28571429 1.5 ]]"
      ],
      "metadata": {
        "id": "nPdctOPADy1i"
      },
      "execution_count": null,
      "outputs": []
    },
    {
      "cell_type": "markdown",
      "source": [
        "**Part 2A**"
      ],
      "metadata": {
        "id": "p6XdB3a8EDiz"
      }
    },
    {
      "cell_type": "code",
      "source": [
        "#1\n",
        "import numpy as np\n",
        "a = np.array([[10,20,30],[40,50,60],[70,80,90]])\n",
        "print(a)\n"
      ],
      "metadata": {
        "colab": {
          "base_uri": "https://localhost:8080/"
        },
        "id": "9QA3cZOFdNSD",
        "outputId": "1d211bc6-138c-457a-a81e-bace623f199d"
      },
      "execution_count": null,
      "outputs": [
        {
          "output_type": "stream",
          "name": "stdout",
          "text": [
            "[[10 20 30]\n",
            " [40 50 60]\n",
            " [70 80 90]]\n"
          ]
        }
      ]
    },
    {
      "cell_type": "code",
      "source": [
        "#1A\n",
        "a[1,1]"
      ],
      "metadata": {
        "id": "gtAUHhMjEJY4"
      },
      "execution_count": null,
      "outputs": []
    },
    {
      "cell_type": "code",
      "source": [
        "#2A\n",
        "a[1,:]"
      ],
      "metadata": {
        "id": "pMr20gkeEJWZ",
        "colab": {
          "base_uri": "https://localhost:8080/"
        },
        "outputId": "fdbeaaf4-b0a4-4aef-af03-bf094a8db6c5"
      },
      "execution_count": null,
      "outputs": [
        {
          "output_type": "execute_result",
          "data": {
            "text/plain": [
              "array([40, 50, 60])"
            ]
          },
          "metadata": {},
          "execution_count": 23
        }
      ]
    },
    {
      "cell_type": "code",
      "source": [
        "#3A\n",
        "a[:,2]"
      ],
      "metadata": {
        "id": "hL-W6F3UEJTu",
        "colab": {
          "base_uri": "https://localhost:8080/"
        },
        "outputId": "4ed5f85a-de13-45d1-b0f8-40c730eeb47c"
      },
      "execution_count": null,
      "outputs": [
        {
          "output_type": "stream",
          "name": "stdout",
          "text": [
            "[ 3  7 11]\n"
          ]
        }
      ]
    },
    {
      "cell_type": "code",
      "source": [
        "#4A\n",
        "a[1:3, 1:3]"
      ],
      "metadata": {
        "id": "aEPoGWZ-EJRD",
        "colab": {
          "base_uri": "https://localhost:8080/"
        },
        "outputId": "79186de7-6560-441b-e757-d6c1e8853b77"
      },
      "execution_count": null,
      "outputs": [
        {
          "output_type": "stream",
          "name": "stdout",
          "text": [
            "[[ 6  7]\n",
            " [10 11]]\n"
          ]
        }
      ]
    },
    {
      "cell_type": "markdown",
      "source": [
        "**Part 2B**"
      ],
      "metadata": {
        "id": "bWEKJOzXErSv"
      }
    },
    {
      "cell_type": "code",
      "source": [
        "#1B\n",
        "import numpy as np\n",
        "a = np.array([[1,2,3,4],[5,6,7,8],[9,10,11,12]])\n",
        "print(a)"
      ],
      "metadata": {
        "id": "-HGv1uwyEJOD",
        "colab": {
          "base_uri": "https://localhost:8080/"
        },
        "outputId": "fb5e0491-cdd6-4697-969b-7600ac1cb833"
      },
      "execution_count": null,
      "outputs": [
        {
          "output_type": "stream",
          "name": "stdout",
          "text": [
            "[[ 1  2  3  4]\n",
            " [ 5  6  7  8]\n",
            " [ 9 10 11 12]]\n"
          ]
        }
      ]
    },
    {
      "cell_type": "code",
      "source": [
        "#2B\n",
        "print(a[1:3, 1:3])"
      ],
      "metadata": {
        "id": "NJ465FoEEJLY",
        "colab": {
          "base_uri": "https://localhost:8080/"
        },
        "outputId": "d6ac637a-f65a-487c-b0bc-5924cc068f76"
      },
      "execution_count": null,
      "outputs": [
        {
          "output_type": "stream",
          "name": "stdout",
          "text": [
            "[[ 6  7]\n",
            " [10 11]]\n"
          ]
        }
      ]
    },
    {
      "cell_type": "code",
      "source": [
        "#3B\n",
        "print(a[0,::2])"
      ],
      "metadata": {
        "id": "lwDs2TkNEJI0",
        "colab": {
          "base_uri": "https://localhost:8080/"
        },
        "outputId": "79f99a00-f044-41e2-a6b8-12a94065e0bf"
      },
      "execution_count": null,
      "outputs": [
        {
          "output_type": "execute_result",
          "data": {
            "text/plain": [
              "array([1, 3])"
            ]
          },
          "metadata": {},
          "execution_count": 127
        }
      ]
    },
    {
      "cell_type": "code",
      "source": [
        "#4B\n",
        "a = np.array([[9,10,11,12],[5,6,7,8],[1,2,3,4]])\n",
        "print(a)"
      ],
      "metadata": {
        "id": "dUW-YB5LEJE9",
        "colab": {
          "base_uri": "https://localhost:8080/"
        },
        "outputId": "964c1601-ca89-496a-d52a-a4bf4d331f53"
      },
      "execution_count": null,
      "outputs": [
        {
          "output_type": "stream",
          "name": "stdout",
          "text": [
            "[[ 9 10 11 12]\n",
            " [ 5  6  7  8]\n",
            " [ 1  2  3  4]]\n"
          ]
        }
      ]
    },
    {
      "cell_type": "code",
      "source": [
        "#5B\n",
        "print(a[0:4, 2:4])"
      ],
      "metadata": {
        "id": "T336Ry1MEJB0",
        "colab": {
          "base_uri": "https://localhost:8080/"
        },
        "outputId": "bf8fee2a-846a-4ffe-c58d-46b1b3fcaf35"
      },
      "execution_count": null,
      "outputs": [
        {
          "output_type": "stream",
          "name": "stdout",
          "text": [
            "[[ 3  4]\n",
            " [ 7  8]\n",
            " [11 12]]\n"
          ]
        }
      ]
    },
    {
      "cell_type": "markdown",
      "source": [
        "**Part 2C**"
      ],
      "metadata": {
        "id": "H9fJmn12Ew3p"
      }
    },
    {
      "cell_type": "code",
      "source": [
        "#1C\n",
        "import numpy as np\n",
        "a = np.array([[11,7,33]])\n",
        "b = np.array([[44,5,18]])\n",
        "print(f\"arr1 = {a}\")\n",
        "print(f\"arr2 = {b}\")"
      ],
      "metadata": {
        "id": "mXINTkHHEI4a"
      },
      "execution_count": null,
      "outputs": []
    },
    {
      "cell_type": "code",
      "source": [
        "#2C\n",
        "a = np.array([[11,7,33]])\n",
        "b = np.array([[44,5,18]])\n",
        "\n",
        "arr = np.concatenate((a,b), axis = 1)\n",
        "print(arr)"
      ],
      "metadata": {
        "id": "0MEh9BVWEyXH"
      },
      "execution_count": null,
      "outputs": []
    },
    {
      "cell_type": "code",
      "source": [
        "#3C\n",
        "a = np.array([[11,7,33]])\n",
        "b = np.array([[44,5,18]])\n",
        "\n",
        "np.vstack([a,b])"
      ],
      "metadata": {
        "id": "Tfz2KCIuEynX"
      },
      "execution_count": null,
      "outputs": []
    },
    {
      "cell_type": "code",
      "source": [
        "#4C\n",
        "a = np.array([[1,2],[3,4]])\n",
        "b = np.array([[5,6],[7,8]])\n",
        "\n",
        "print(f\"arr1 = {a}\")\n",
        "print(f\"arr2 = {b}\")"
      ],
      "metadata": {
        "id": "2IG8cSUsEyk1"
      },
      "execution_count": null,
      "outputs": []
    },
    {
      "cell_type": "code",
      "source": [
        "#5C\n",
        "a = np.array([[1,2],[3,4]])\n",
        "b = np.array([[5,6],[7,8]])\n",
        "\n",
        "np.hstack((a,b))"
      ],
      "metadata": {
        "id": "IYN2fmPuEyh3"
      },
      "execution_count": null,
      "outputs": []
    },
    {
      "cell_type": "code",
      "source": [
        "#6C\n",
        "a = np.array([[1,2],[3,4]])\n",
        "b = np.array([[5,6],[7,8]])\n",
        "\n",
        "np.vstack((a,b))"
      ],
      "metadata": {
        "id": "lfr8e0iUE3m4"
      },
      "execution_count": null,
      "outputs": []
    },
    {
      "cell_type": "markdown",
      "source": [
        "**Part 3**"
      ],
      "metadata": {
        "id": "gCCC5h03GTm7"
      }
    },
    {
      "cell_type": "code",
      "source": [
        "#Task 1\n",
        "import numpy as np\n",
        "#1\n",
        "a = np.array([x for x in range(10,29,2)])\n",
        "print(a)\n",
        "print(\"\")\n",
        "\n",
        "#2\n",
        "stats = np.random.randint(1,50, size = (4,4))\n",
        "print(stats)\n",
        "print(\"\")\n",
        "\n",
        "#3\n",
        "np.ones((2,3,4))"
      ],
      "metadata": {
        "id": "Oa_CYVNCGUw_",
        "colab": {
          "base_uri": "https://localhost:8080/"
        },
        "outputId": "23aebb71-510e-4918-9d23-fb67e3ba964e"
      },
      "execution_count": null,
      "outputs": [
        {
          "output_type": "stream",
          "name": "stdout",
          "text": [
            "[10 12 14 16 18 20 22 24 26 28]\n",
            "\n",
            "[[22  3 21 38]\n",
            " [34 47 46 40]\n",
            " [42 49 30 33]\n",
            " [36 30 35 41]]\n",
            "\n"
          ]
        },
        {
          "output_type": "execute_result",
          "data": {
            "text/plain": [
              "array([[[1., 1., 1., 1.],\n",
              "        [1., 1., 1., 1.],\n",
              "        [1., 1., 1., 1.]],\n",
              "\n",
              "       [[1., 1., 1., 1.],\n",
              "        [1., 1., 1., 1.],\n",
              "        [1., 1., 1., 1.]]])"
            ]
          },
          "metadata": {},
          "execution_count": 22
        }
      ]
    },
    {
      "cell_type": "code",
      "source": [
        "#Task 2\n",
        "import numpy as np\n",
        "#1\n",
        "b = a.reshape(2, 5)\n",
        "print(b)\n",
        "print(\" \")\n",
        "\n",
        "#2\n",
        "print(stats[0:4, 2:4])\n",
        "print(\" \")\n",
        "\n",
        "#3\n",
        "stats[stats % 2 == 0] = -1\n",
        "print(stats)"
      ],
      "metadata": {
        "id": "sXbMOxBjGcfC",
        "colab": {
          "base_uri": "https://localhost:8080/"
        },
        "outputId": "a6b0d13f-9394-4f74-90c6-952a5d7650e5"
      },
      "execution_count": null,
      "outputs": [
        {
          "output_type": "stream",
          "name": "stdout",
          "text": [
            "[[10 12 14 16 18]\n",
            " [20 22 24 26 28]]\n",
            " \n",
            "[[21 38]\n",
            " [46 40]\n",
            " [30 33]\n",
            " [35 41]]\n",
            " \n",
            "[[-1  3 21 -1]\n",
            " [-1 47 -1 -1]\n",
            " [-1 49 -1 33]\n",
            " [-1 -1 35 41]]\n"
          ]
        }
      ]
    },
    {
      "cell_type": "code",
      "source": [
        "#Task 3\n",
        "import numpy as np\n",
        "#1\n",
        "statsmen = np.mean(stats)\n",
        "print(statsmen)\n",
        "\n",
        "statsdian = np.median(stats)\n",
        "print(statsdian)\n",
        "\n",
        "statsdard = np.std(stats)\n",
        "print(statsdard)\n",
        "print(\" \")\n",
        "\n",
        "#2\n",
        "statsum = np.sum(stats, axis=1)\n",
        "print(statsum)\n",
        "print(\" \")\n",
        "\n",
        "\n",
        "#3\n",
        "maxstats = np.max(stats)\n",
        "print(maxstats)\n",
        "\n",
        "statdex = np.unravel_index(np.argmax(stats), stats.shape)\n",
        "print(statdex)\n"
      ],
      "metadata": {
        "id": "FfMJ88zfGf13",
        "colab": {
          "base_uri": "https://localhost:8080/"
        },
        "outputId": "7ae28521-03f8-4ecb-ae1a-775f0b3ac1d8"
      },
      "execution_count": null,
      "outputs": [
        {
          "output_type": "stream",
          "name": "stdout",
          "text": [
            "13.75\n",
            "-1.0\n",
            "19.427750770482927\n",
            " \n",
            "[22 44 80 74]\n",
            " \n",
            "49\n",
            "(2, 1)\n"
          ]
        }
      ]
    },
    {
      "cell_type": "code",
      "source": [
        "#Task 4\n",
        "import numpy as np\n",
        "#1\n",
        "a = np.random.rand(10,10)\n",
        "print(a)\n",
        "print(\" \")\n",
        "\n",
        "#2\n",
        "b = np.min(a, axis=0)\n",
        "print(b)\n",
        "print(\" \")\n",
        "\n",
        "#3\n",
        "c = np.argsort(a, axis=None)\n",
        "d = c[-5:]\n",
        "e = d // a.shape[1]\n",
        "f = d % a.shape[1]\n",
        "\n",
        "g = list(zip(e[::-1], f[::-1]))\n",
        "\n",
        "print(g)\n"
      ],
      "metadata": {
        "id": "gym_YJ2WGkDx",
        "colab": {
          "base_uri": "https://localhost:8080/"
        },
        "outputId": "7652cb1e-dfaf-4788-9c74-6060148fb075"
      },
      "execution_count": null,
      "outputs": [
        {
          "output_type": "stream",
          "name": "stdout",
          "text": [
            "[[0.42575223 0.17715271 0.97114108 0.18009346 0.87055504 0.79096353\n",
            "  0.8882629  0.56641595 0.00975615 0.22625523]\n",
            " [0.16748736 0.4879724  0.00564044 0.92861315 0.52767422 0.29748324\n",
            "  0.83715801 0.1808532  0.01469423 0.73228813]\n",
            " [0.64772484 0.67023235 0.10744313 0.57876498 0.16145589 0.81630205\n",
            "  0.87912566 0.930106   0.45610575 0.84146916]\n",
            " [0.75453036 0.1475701  0.18293304 0.99875542 0.64717632 0.97979128\n",
            "  0.54791752 0.27998095 0.67241003 0.37661544]\n",
            " [0.15494219 0.1375598  0.5064247  0.91180237 0.94438253 0.62484179\n",
            "  0.63201616 0.35214362 0.59470697 0.29877148]\n",
            " [0.86909966 0.907486   0.94440376 0.68551544 0.37687785 0.5311311\n",
            "  0.69035169 0.20000205 0.1088543  0.31547319]\n",
            " [0.34603777 0.30093319 0.56584889 0.23333475 0.02817121 0.82092671\n",
            "  0.36641881 0.073501   0.64587758 0.43243975]\n",
            " [0.50993683 0.32742613 0.25827423 0.31632323 0.55566902 0.19354602\n",
            "  0.71849424 0.10417461 0.78441319 0.71504494]\n",
            " [0.06711277 0.30981768 0.90811751 0.47803443 0.34627821 0.70623519\n",
            "  0.62413192 0.34668313 0.57470489 0.36917585]\n",
            " [0.61986851 0.10285178 0.76509171 0.07486479 0.07637925 0.23794823\n",
            "  0.74746148 0.58930523 0.71216826 0.46331226]]\n",
            " \n",
            "[0.06711277 0.10285178 0.00564044 0.07486479 0.02817121 0.19354602\n",
            " 0.36641881 0.073501   0.00975615 0.22625523]\n",
            " \n",
            "[(3, 3), (3, 5), (0, 2), (5, 2), (4, 4)]\n"
          ]
        }
      ]
    }
  ]
}